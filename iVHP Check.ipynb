{
 "cells": [
  {
   "cell_type": "code",
   "execution_count": 1,
   "id": "c8b469c8",
   "metadata": {},
   "outputs": [],
   "source": [
    "%load_ext autoreload\n",
    "%autoreload 2"
   ]
  },
  {
   "cell_type": "code",
   "execution_count": 2,
   "id": "e4837ae9",
   "metadata": {},
   "outputs": [],
   "source": [
    "import torch as ch\n",
    "import numpy as np\n",
    "import torch.nn as nn\n",
    "import os\n",
    "import argparse\n",
    "import seaborn as sns\n",
    "import copy\n",
    "from tqdm import tqdm\n",
    "import matplotlib.pyplot as plt\n",
    "\n",
    "from mib.models.utils import get_model\n",
    "from sklearn.datasets import make_spd_matrix\n",
    "from mib.utils import get_models_path\n",
    "from mib.dataset.utils import get_dataset\n",
    "from mib.train import get_loader, train_model, evaluate_model\n",
    "from mib.attacks.theory_new import compute_hessian, fast_ihvp\n",
    "\n",
    "from torch.utils.data import TensorDataset, DataLoader\n",
    "\n",
    "from torch_influence.modules import HVPModule, LiSSAInfluenceModule\n",
    "from torch_influence.base import BaseObjective\n",
    "from livelossplot import PlotLosses"
   ]
  },
  {
   "cell_type": "code",
   "execution_count": 3,
   "id": "439c3127",
   "metadata": {},
   "outputs": [],
   "source": [
    "def flatten_vec(vec):\n",
    "    fvec = []\n",
    "    for p in params_like:\n",
    "        fvec.append(p.view(-1))\n",
    "    return torch.cat(fvec)"
   ]
  },
  {
   "cell_type": "code",
   "execution_count": 4,
   "id": "8be0f790",
   "metadata": {},
   "outputs": [],
   "source": [
    "def compute_epsilon_acceleration(\n",
    "    source_sequence,\n",
    "    num_applications: int=1,):\n",
    "    \"\"\"Compute `num_applications` recursive Shanks transformation of\n",
    "    `source_sequence` (preferring later elements) using `Samelson` inverse and the\n",
    "    epsilon-algorithm, with Sablonniere modifier.\n",
    "    \"\"\"\n",
    "\n",
    "    def inverse(vector):\n",
    "        # Samelson inverse\n",
    "        return vector / vector.dot(vector)\n",
    "\n",
    "    epsilon = {}\n",
    "    for m, source_m in enumerate(source_sequence):\n",
    "        epsilon[m, 0] = source_m.squeeze(1)\n",
    "        epsilon[m + 1, -1] = 0\n",
    "\n",
    "    s = 1\n",
    "    m = (len(source_sequence) - 1) - 2 * num_applications\n",
    "    initial_m = m\n",
    "    while m < len(source_sequence) - 1:\n",
    "        while m >= initial_m:\n",
    "            # Sablonniere modifier\n",
    "            inverse_scaling = np.floor(s / 2) + 1\n",
    "\n",
    "            epsilon[m, s] = epsilon[m + 1, s - 2] + inverse_scaling * inverse(\n",
    "                epsilon[m + 1, s - 1] - epsilon[m, s - 1]\n",
    "            )\n",
    "            epsilon.pop((m + 1, s - 2))\n",
    "            m -= 1\n",
    "            s += 1\n",
    "        m += 1\n",
    "        s -= 1\n",
    "        epsilon.pop((m, s - 1))\n",
    "        m = initial_m + s\n",
    "        s = 1\n",
    "\n",
    "    return epsilon[initial_m, 2 * num_applications]"
   ]
  },
  {
   "cell_type": "code",
   "execution_count": 5,
   "id": "057761db",
   "metadata": {},
   "outputs": [],
   "source": [
    "@ch.no_grad()\n",
    "def hso_hvp(vec,\n",
    "            hvp_module,\n",
    "            acceleration_order: int = 8,\n",
    "            initial_scale_factor: float = 100,\n",
    "            num_update_steps: int = 20,):\n",
    "    plotlosses = PlotLosses()\n",
    "\n",
    "    # Detach and clone input\n",
    "    vector_cache = vec.detach().clone()\n",
    "    update_sum   = vec.detach().clone()\n",
    "    coefficient_cache = 1\n",
    "\n",
    "    cached_update_sums = []\n",
    "    if acceleration_order > 0 and num_update_steps == 2 * acceleration_order + 1:\n",
    "        cached_update_sums.append(update_sum)\n",
    "\n",
    "    # Do HessianSeries calculation\n",
    "    for update_step in range(1, num_update_steps):\n",
    "        hessian2_vector_cache = hvp_module.hvp(hvp_module.hvp(vector_cache))\n",
    "        # print(\"h2v\", hessian2_vector_cache)\n",
    "\n",
    "        if update_step == 1:\n",
    "            scale_factor = ch.norm(hessian2_vector_cache, p=2) / ch.norm(vec, p=2)\n",
    "            scale_factor = max(scale_factor.item(), initial_scale_factor)\n",
    "\n",
    "        vector_cache = (vector_cache - (1/scale_factor)*hessian2_vector_cache).clone()\n",
    "        coefficient_cache *= (2 * update_step - 1) / (2 * update_step)\n",
    "        update_sum += coefficient_cache * vector_cache\n",
    "        \n",
    "        # print(coefficient_cache * ch.norm(vector_cache, 2).item())\n",
    "\n",
    "        if acceleration_order > 0 and update_step >= (num_update_steps - 2 * acceleration_order - 1):\n",
    "            cached_update_sums.append(update_sum.clone())\n",
    "        \n",
    "        # Keep track of norm b/w ground truth and result right now\n",
    "        # And also cosine similarity\n",
    "        touse_sum = update_sum / np.sqrt(scale_factor)\n",
    "        # print(ACTUAL_IHVP.shape, touse_sum.shape)\n",
    "        # print(touse_sum.shape, ACTUAL_IHVP.shape)\n",
    "        plotlosses.update({\n",
    "            'L2 norm distance': ch.norm(ACTUAL_IHVP - touse_sum, 2).item(),\n",
    "            'Cosine similarity': nn.functional.cosine_similarity(touse_sum, ACTUAL_IHVP, eps=0, dim=0).item(),\n",
    "        })\n",
    "        plotlosses.send()\n",
    "\n",
    "    # Perform series acceleration (Shanks acceleration)\n",
    "    if acceleration_order > 0:\n",
    "        accelerated_sum = compute_epsilon_acceleration(\n",
    "            cached_update_sums, num_applications=acceleration_order\n",
    "        )\n",
    "        accelerated_sum /= np.sqrt(scale_factor)\n",
    "        accelerated_sum = accelerated_sum.unsqueeze(1)\n",
    "        \n",
    "        plotlosses.update({\n",
    "            'L2 norm distance': ch.norm(ACTUAL_IHVP - accelerated_sum, 2).item(),\n",
    "            'Cosine similarity': nn.functional.cosine_similarity(accelerated_sum, ACTUAL_IHVP, eps=0, dim=0).item(),\n",
    "        })\n",
    "        plotlosses.send()\n",
    "        \n",
    "        return accelerated_sum\n",
    "\n",
    "    update_sum /= np.sqrt(scale_factor)\n",
    "    return update_sum"
   ]
  },
  {
   "cell_type": "code",
   "execution_count": null,
   "id": "2172f6c1",
   "metadata": {},
   "outputs": [],
   "source": [
    "wanted = hso_hvp(flat_grad,\n",
    "                 # hvp_module,\n",
    "                 wpr,\n",
    "                 initial_scale_factor=1.2e6,\n",
    "                 acceleration_order=30,\n",
    "                 num_update_steps=100)"
   ]
  },
  {
   "cell_type": "code",
   "execution_count": null,
   "id": "ec662071",
   "metadata": {},
   "outputs": [],
   "source": [
    "print(spec_radius(wpr.H.cpu() @ wpr.H.cpu()) / V)"
   ]
  },
  {
   "cell_type": "code",
   "execution_count": null,
   "id": "f4260444",
   "metadata": {},
   "outputs": [],
   "source": [
    "ch.sort(ch.abs(ch.linalg.eigh(wpr.H.cpu() @ wpr.H.cpu()).eigenvalues)).values"
   ]
  },
  {
   "cell_type": "code",
   "execution_count": null,
   "id": "2937e5ff",
   "metadata": {},
   "outputs": [],
   "source": [
    "V = 1.1e6\n",
    "term = ch.eye(1024)\n",
    "initial = (ch.eye(1024) - (wpr.H.cpu() @ wpr.H.cpu())/V)\n",
    "for _ in range(10):\n",
    "    term = term @ initial\n",
    "    print(spec_radius(term))"
   ]
  },
  {
   "cell_type": "code",
   "execution_count": null,
   "id": "ebd97d04",
   "metadata": {},
   "outputs": [],
   "source": [
    "V = (spec_radius(wpr.H) ** 2).item() + 10000"
   ]
  },
  {
   "cell_type": "code",
   "execution_count": null,
   "id": "d334f45b",
   "metadata": {},
   "outputs": [],
   "source": [
    "ch.min(ch.abs(ch.linalg.eigh(wpr.H @ wpr.H / V).eigenvalues))"
   ]
  },
  {
   "cell_type": "code",
   "execution_count": null,
   "id": "dbe1f53b",
   "metadata": {},
   "outputs": [],
   "source": [
    "ch.linalg.eigh(ch.eye(1024).cuda() - wpr.H @ wpr.H / V).eigenvalues"
   ]
  },
  {
   "cell_type": "code",
   "execution_count": null,
   "id": "ea89dd73",
   "metadata": {},
   "outputs": [],
   "source": []
  },
  {
   "cell_type": "code",
   "execution_count": 6,
   "id": "aec234b2",
   "metadata": {},
   "outputs": [],
   "source": [
    "def is_pos_def(x):\n",
    "    return np.all(np.linalg.eigvals(x) > 0)"
   ]
  },
  {
   "cell_type": "code",
   "execution_count": null,
   "id": "8e117b1f",
   "metadata": {},
   "outputs": [],
   "source": [
    "is_pos_def(wpr.H.cpu().numpy())"
   ]
  },
  {
   "cell_type": "code",
   "execution_count": null,
   "id": "7418b656",
   "metadata": {},
   "outputs": [],
   "source": [
    "print(wanted)\n",
    "print(ch.norm(wanted))"
   ]
  },
  {
   "cell_type": "code",
   "execution_count": null,
   "id": "e849c476",
   "metadata": {},
   "outputs": [],
   "source": [
    "exact_ihvp = exact_inverse_h @ flat_grad.cpu()\n",
    "print(exact_ihvp)\n",
    "print(ch.norm(exact_ihvp))"
   ]
  },
  {
   "cell_type": "code",
   "execution_count": null,
   "id": "ec3f0cf8",
   "metadata": {},
   "outputs": [],
   "source": [
    "exact_inverse_h = ch.linalg.inv(wpr.H.cpu())"
   ]
  },
  {
   "cell_type": "code",
   "execution_count": null,
   "id": "69962f39",
   "metadata": {},
   "outputs": [],
   "source": [
    "inner_matrix = (ch.eye(wpr.H.shape[0]) - (wpr.H @ wpr.H).cpu() / 1.1e6)"
   ]
  },
  {
   "cell_type": "code",
   "execution_count": null,
   "id": "bcb4c0e9",
   "metadata": {},
   "outputs": [],
   "source": [
    "eigv, eigh = ch.linalg.eigh((wpr.H.cpu() @ wpr.H.cpu()))"
   ]
  },
  {
   "cell_type": "code",
   "execution_count": null,
   "id": "842a2fd0",
   "metadata": {},
   "outputs": [],
   "source": [
    "eigh @ ch.diag(eigv) @ eigh.T"
   ]
  },
  {
   "cell_type": "code",
   "execution_count": null,
   "id": "71f3d804",
   "metadata": {},
   "outputs": [],
   "source": [
    "wpr.H.cpu() @ wpr.H.cpu()"
   ]
  },
  {
   "cell_type": "code",
   "execution_count": null,
   "id": "610f1baf",
   "metadata": {},
   "outputs": [],
   "source": [
    "ch.max(ch.abs(eigv))"
   ]
  },
  {
   "cell_type": "code",
   "execution_count": null,
   "id": "fc75782d",
   "metadata": {},
   "outputs": [],
   "source": []
  },
  {
   "cell_type": "code",
   "execution_count": null,
   "id": "0926dd60",
   "metadata": {},
   "outputs": [],
   "source": [
    "eigv, eigh = ch.linalg.eigh(ch.eye(wpr.H.shape[0]) - (wpr.H.cpu() @ wpr.H.cpu())/1)"
   ]
  },
  {
   "cell_type": "code",
   "execution_count": null,
   "id": "1e632d17",
   "metadata": {},
   "outputs": [],
   "source": [
    "ch.abs(eigv)"
   ]
  },
  {
   "cell_type": "code",
   "execution_count": null,
   "id": "6286af69",
   "metadata": {},
   "outputs": [],
   "source": [
    "ch.max(ch.abs(eigv))"
   ]
  },
  {
   "cell_type": "code",
   "execution_count": null,
   "id": "41f4d0c7",
   "metadata": {},
   "outputs": [],
   "source": [
    "spec_radius(inner_matrix)"
   ]
  },
  {
   "cell_type": "code",
   "execution_count": null,
   "id": "4fb73ded",
   "metadata": {},
   "outputs": [],
   "source": [
    "ch.norm(inner_matrix ** 10)"
   ]
  },
  {
   "cell_type": "code",
   "execution_count": 7,
   "id": "21ca7447",
   "metadata": {},
   "outputs": [],
   "source": [
    "def spec_radius(x):\n",
    "    return ch.max(ch.abs(ch.linalg.eigh(x).eigenvalues))"
   ]
  },
  {
   "cell_type": "code",
   "execution_count": null,
   "id": "87e012bf",
   "metadata": {},
   "outputs": [],
   "source": [
    "spec_radius(exact_H.cpu()) ** 2"
   ]
  },
  {
   "cell_type": "code",
   "execution_count": null,
   "id": "3c476d80",
   "metadata": {},
   "outputs": [],
   "source": [
    "spec_radius(wpr.H.cpu() @ wpr.H.cpu())"
   ]
  },
  {
   "cell_type": "code",
   "execution_count": null,
   "id": "d79b3a6d",
   "metadata": {},
   "outputs": [],
   "source": [
    "1 - 1049591.2500 / 1.2e6"
   ]
  },
  {
   "cell_type": "code",
   "execution_count": null,
   "id": "93ce21d3",
   "metadata": {},
   "outputs": [],
   "source": [
    "print(ch.linalg.inv(wpr.H) @ flat_grad)"
   ]
  },
  {
   "cell_type": "code",
   "execution_count": null,
   "id": "d64d65a5",
   "metadata": {},
   "outputs": [],
   "source": [
    "exact_inverse_h = ch.linalg.inv(wpr.H.cpu())"
   ]
  },
  {
   "cell_type": "code",
   "execution_count": null,
   "id": "07bb56a8",
   "metadata": {},
   "outputs": [],
   "source": [
    "print(wpr.H.cuda() @ (wpr.H.cuda() @ flat_grad))"
   ]
  },
  {
   "cell_type": "code",
   "execution_count": null,
   "id": "9e9dff95",
   "metadata": {},
   "outputs": [],
   "source": [
    "lissa_ivhp = fast_ihvp(model, flat_grad, dataloader, criterion, device=\"cuda\")"
   ]
  },
  {
   "cell_type": "code",
   "execution_count": null,
   "id": "648e90f7",
   "metadata": {},
   "outputs": [],
   "source": [
    "lissa_ivhp"
   ]
  },
  {
   "cell_type": "markdown",
   "id": "98d636ed",
   "metadata": {},
   "source": [
    "Wow, either I didn't pick the right scale or LiSSA is **way off** in iHVP computation! "
   ]
  },
  {
   "cell_type": "code",
   "execution_count": 10,
   "id": "ad5c8fd5",
   "metadata": {},
   "outputs": [],
   "source": [
    "model = nn.Sequential(nn.Linear(200, 4), nn.ReLU(), nn.Linear(4, 2))\n",
    "criterion = nn.CrossEntropyLoss()\n",
    "model.cuda()\n",
    "\n",
    "class MyObjective(BaseObjective):\n",
    "    def train_outputs(self, model, batch):\n",
    "        return model(batch[0])\n",
    "\n",
    "    def train_loss_on_outputs(self, outputs, batch):\n",
    "        return criterion(outputs, batch[1])  # mean reduction required\n",
    "\n",
    "    def train_regularization(self, params):\n",
    "        return 0\n",
    "\n",
    "    def test_loss(self, model, params, batch):\n",
    "        return criterion(model(batch[0]), batch[1])  # no regularization in test loss"
   ]
  },
  {
   "cell_type": "code",
   "execution_count": 9,
   "id": "bfc01f98",
   "metadata": {},
   "outputs": [],
   "source": [
    "# Create TensorDataset\n",
    "y_0 = ch.randn(200, 200) + 1.\n",
    "y_1 = ch.randn(200, 200) + 2.\n",
    "y = ch.tensor([0] * 200 + [1] * 200)\n",
    "dataset = TensorDataset(ch.cat((y_0, y_1), 0), y)\n",
    "\n",
    "# Create DataLoader\n",
    "dataloader = DataLoader(dataset, batch_size=64, shuffle=True)"
   ]
  },
  {
   "cell_type": "code",
   "execution_count": null,
   "id": "b8004689",
   "metadata": {},
   "outputs": [],
   "source": [
    "model, best_acc, best_loss = train_model(\n",
    "    model,\n",
    "    criterion,\n",
    "    dataloader,\n",
    "    dataloader,\n",
    "    1e-3,\n",
    "    60,\n",
    "    pick_n=1,\n",
    "    pick_mode=\"last\",\n",
    ")\n",
    "model.cuda()"
   ]
  },
  {
   "cell_type": "code",
   "execution_count": null,
   "id": "33189161",
   "metadata": {},
   "outputs": [],
   "source": [
    "random_x, random_y = ch.randn(1, 64) + 1, ch.tensor([0])\n",
    "random_x = random_x.cuda()\n",
    "random_y = random_y.cuda()\n",
    "# Compute gradient for this point\n",
    "model.zero_grad()\n",
    "loss = criterion(model(random_x), random_y)\n",
    "loss.backward()\n",
    "flat_grad = []\n",
    "for p in model.parameters():\n",
    "    flat_grad.append(p.grad.detach().view(-1))\n",
    "flat_grad = ch.cat(flat_grad)\n",
    "model.zero_grad()"
   ]
  },
  {
   "cell_type": "code",
   "execution_count": null,
   "id": "a3d20020",
   "metadata": {},
   "outputs": [],
   "source": []
  },
  {
   "cell_type": "code",
   "execution_count": null,
   "id": "36a6fec1",
   "metadata": {},
   "outputs": [],
   "source": [
    "model"
   ]
  },
  {
   "cell_type": "code",
   "execution_count": null,
   "id": "123defa2",
   "metadata": {},
   "outputs": [],
   "source": [
    "exact_H = compute_hessian(model, dataloader, criterion, device = \"cuda\")"
   ]
  },
  {
   "cell_type": "code",
   "execution_count": null,
   "id": "832f67d9",
   "metadata": {},
   "outputs": [],
   "source": [
    "exact_H.shape"
   ]
  },
  {
   "cell_type": "code",
   "execution_count": null,
   "id": "ef8eb8e9",
   "metadata": {},
   "outputs": [],
   "source": [
    "ch.linalg.inv(exact_H.cpu())"
   ]
  },
  {
   "cell_type": "code",
   "execution_count": null,
   "id": "9aac956a",
   "metadata": {},
   "outputs": [],
   "source": [
    "z = ch.abs(ch.linalg.eigh(exact_H.cpu()).eigenvalues)"
   ]
  },
  {
   "cell_type": "code",
   "execution_count": null,
   "id": "34803d5f",
   "metadata": {},
   "outputs": [],
   "source": [
    "ch.sort(z).values"
   ]
  },
  {
   "cell_type": "code",
   "execution_count": null,
   "id": "85ae7feb",
   "metadata": {},
   "outputs": [],
   "source": [
    "abs2_vals = ch.abs(ch.linalg.eigh(exact_H.cpu() @ exact_H.cpu()).eigenvalues)\n",
    "print(min(abs2_vals), max(abs2_vals))\n",
    "condition = max(abs2_vals) / min(abs2_vals)\n",
    "print(condition)"
   ]
  },
  {
   "cell_type": "code",
   "execution_count": null,
   "id": "5e7b301f",
   "metadata": {},
   "outputs": [],
   "source": [
    "ch.linalg.inv(exact_H)"
   ]
  },
  {
   "cell_type": "code",
   "execution_count": null,
   "id": "3b856643",
   "metadata": {},
   "outputs": [],
   "source": [
    "# Create random flat_grad gradient\n",
    "flat_grad = ch.randn(1024, 1).cuda()"
   ]
  },
  {
   "cell_type": "code",
   "execution_count": null,
   "id": "c21499f9",
   "metadata": {},
   "outputs": [],
   "source": [
    "class PseudoWrapper:\n",
    "    def __init__(self):\n",
    "        self.H = ch.from_numpy(make_spd_matrix(1024)).float().cuda()\n",
    "    \n",
    "    def hvp(self, v):\n",
    "        return self.H @ v"
   ]
  },
  {
   "cell_type": "code",
   "execution_count": null,
   "id": "0d5a8b31",
   "metadata": {},
   "outputs": [],
   "source": [
    "wpr = PseudoWrapper()"
   ]
  },
  {
   "cell_type": "code",
   "execution_count": null,
   "id": "673d7759",
   "metadata": {},
   "outputs": [],
   "source": [
    "exact_H = wpr.H"
   ]
  },
  {
   "cell_type": "code",
   "execution_count": null,
   "id": "b007ae76",
   "metadata": {},
   "outputs": [],
   "source": [
    "wpr.H.float().dtype"
   ]
  },
  {
   "cell_type": "code",
   "execution_count": null,
   "id": "11d305c6",
   "metadata": {},
   "outputs": [],
   "source": [
    "ACTUAL_IHVP = (ch.linalg.inv(wpr.H.cpu()) @ flat_grad.cpu()).cuda()"
   ]
  },
  {
   "cell_type": "code",
   "execution_count": null,
   "id": "d0fdd434",
   "metadata": {},
   "outputs": [],
   "source": [
    "ACTUAL_IHVP"
   ]
  },
  {
   "cell_type": "code",
   "execution_count": null,
   "id": "291b4e3c",
   "metadata": {},
   "outputs": [],
   "source": [
    "wpr.H"
   ]
  },
  {
   "cell_type": "code",
   "execution_count": null,
   "id": "2d6fa894",
   "metadata": {},
   "outputs": [],
   "source": [
    "exact_inverse_h = ch.linalg.inv(exact_H)"
   ]
  },
  {
   "cell_type": "code",
   "execution_count": null,
   "id": "7997c7db",
   "metadata": {},
   "outputs": [],
   "source": [
    "exact_inverse_h"
   ]
  },
  {
   "cell_type": "code",
   "execution_count": null,
   "id": "cdba3a6f",
   "metadata": {},
   "outputs": [],
   "source": [
    "exact_inverse_h @ flat_grad.cpu()"
   ]
  },
  {
   "cell_type": "code",
   "execution_count": null,
   "id": "8200e19c",
   "metadata": {},
   "outputs": [],
   "source": [
    "hvp_module = HVPModule(\n",
    "    model,\n",
    "    MyObjective(),\n",
    "    dataloader,\n",
    "    device=\"cuda\"\n",
    ")"
   ]
  },
  {
   "cell_type": "code",
   "execution_count": null,
   "id": "4d42a4d6",
   "metadata": {},
   "outputs": [],
   "source": [
    "hvp_module.hvp(flat_grad)"
   ]
  },
  {
   "cell_type": "code",
   "execution_count": null,
   "id": "8afe7afb",
   "metadata": {},
   "outputs": [],
   "source": [
    "exact_H.cpu() @ flat_grad.cpu()"
   ]
  },
  {
   "cell_type": "code",
   "execution_count": null,
   "id": "b4e41049",
   "metadata": {},
   "outputs": [],
   "source": [
    "wanted = hso_hvp(flat_grad, hvp_module,\n",
    "                 acceleration_order=2,\n",
    "                 num_update_steps=10)"
   ]
  },
  {
   "cell_type": "code",
   "execution_count": null,
   "id": "6e42414f",
   "metadata": {},
   "outputs": [],
   "source": [
    "wanted"
   ]
  },
  {
   "cell_type": "code",
   "execution_count": null,
   "id": "d525b918",
   "metadata": {},
   "outputs": [],
   "source": [
    "exact_H"
   ]
  },
  {
   "cell_type": "code",
   "execution_count": null,
   "id": "9178c49c",
   "metadata": {},
   "outputs": [],
   "source": [
    "# Compute ihvp with LiSSA\n",
    "module = LiSSAInfluenceModule(\n",
    "    model=model,\n",
    "    objective=MyObjective(),\n",
    "    train_loader=dataloader,\n",
    "    test_loader=None,\n",
    "    device=\"cuda\",\n",
    "    damp=0,\n",
    "    repeat=10,\n",
    "    depth=10, #5000 for MLP and Transformer, 10000 for CNN\n",
    "    scale=10 # test in {10, 25, 50, 100, 150, 200, 250, 300, 400, 500} for convergence\n",
    ")"
   ]
  },
  {
   "cell_type": "code",
   "execution_count": null,
   "id": "8b334142",
   "metadata": {},
   "outputs": [],
   "source": [
    "ihvp = module.inverse_hvp(flat_grad)"
   ]
  },
  {
   "cell_type": "markdown",
   "id": "b299ad61",
   "metadata": {},
   "source": [
    "##  Synthetic Gaussian Data"
   ]
  },
  {
   "cell_type": "code",
   "execution_count": null,
   "id": "46baa948",
   "metadata": {},
   "outputs": [],
   "source": [
    "D = 1_000\n",
    "n = 100\n",
    "gamma = 0.5\n",
    "\n",
    "p = gamma * n\n",
    "\n",
    "# Sample x_0\n",
    "x_0 = ch.randn(1, D)\n",
    "\n",
    "# Sample beta\n",
    "beta = ch.normal(ch.zeros(D, ), ch.ones(D, ) / D)"
   ]
  },
  {
   "cell_type": "code",
   "execution_count": null,
   "id": "b0b2d27d",
   "metadata": {},
   "outputs": [],
   "source": [
    "# Sample n x D matrix\n",
    "X = ch.randn(n, D)"
   ]
  },
  {
   "cell_type": "code",
   "execution_count": null,
   "id": "307ae18a",
   "metadata": {},
   "outputs": [],
   "source": [
    "def get_y(a):\n",
    "    wx = a @ beta\n",
    "    return wx + ch.randn(wx.shape)"
   ]
  },
  {
   "cell_type": "code",
   "execution_count": null,
   "id": "af5db512",
   "metadata": {},
   "outputs": [],
   "source": [
    "def get_hessian(a):\n",
    "    return (a.T @ a) / n"
   ]
  },
  {
   "cell_type": "code",
   "execution_count": null,
   "id": "79c0a7a5",
   "metadata": {},
   "outputs": [],
   "source": [
    "X_0 = X.clone()\n",
    "X_1 = X.clone()\n",
    "X_1[0] = x_0.clone()"
   ]
  },
  {
   "cell_type": "code",
   "execution_count": null,
   "id": "cf95fa2a",
   "metadata": {},
   "outputs": [],
   "source": []
  }
 ],
 "metadata": {
  "kernelspec": {
   "display_name": "phd9",
   "language": "python",
   "name": "phd9"
  },
  "language_info": {
   "codemirror_mode": {
    "name": "ipython",
    "version": 3
   },
   "file_extension": ".py",
   "mimetype": "text/x-python",
   "name": "python",
   "nbconvert_exporter": "python",
   "pygments_lexer": "ipython3",
   "version": "3.9.7"
  }
 },
 "nbformat": 4,
 "nbformat_minor": 5
}
